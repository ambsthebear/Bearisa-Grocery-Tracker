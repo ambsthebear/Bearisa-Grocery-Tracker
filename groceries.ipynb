{
 "cells": [
  {
   "cell_type": "markdown",
   "metadata": {},
   "source": [
    "Set up imports "
   ]
  },
  {
   "cell_type": "code",
   "execution_count": 15,
   "metadata": {},
   "outputs": [],
   "source": [
    "import pandas as pd\n",
    "import matplotlib.pyplot as plt"
   ]
  },
  {
   "cell_type": "markdown",
   "metadata": {},
   "source": [
    "Convert csv to df"
   ]
  },
  {
   "cell_type": "code",
   "execution_count": 16,
   "metadata": {},
   "outputs": [
    {
     "data": {
      "text/html": [
       "<div>\n",
       "<style scoped>\n",
       "    .dataframe tbody tr th:only-of-type {\n",
       "        vertical-align: middle;\n",
       "    }\n",
       "\n",
       "    .dataframe tbody tr th {\n",
       "        vertical-align: top;\n",
       "    }\n",
       "\n",
       "    .dataframe thead th {\n",
       "        text-align: right;\n",
       "    }\n",
       "</style>\n",
       "<table border=\"1\" class=\"dataframe\">\n",
       "  <thead>\n",
       "    <tr style=\"text-align: right;\">\n",
       "      <th></th>\n",
       "      <th>Item</th>\n",
       "      <th>Price</th>\n",
       "      <th>Quantity</th>\n",
       "      <th>Store</th>\n",
       "      <th>Date</th>\n",
       "      <th>Category</th>\n",
       "    </tr>\n",
       "  </thead>\n",
       "  <tbody>\n",
       "    <tr>\n",
       "      <th>61</th>\n",
       "      <td>NOLA rice</td>\n",
       "      <td>$1.45</td>\n",
       "      <td>2</td>\n",
       "      <td>Aldi</td>\n",
       "      <td>2023-10-05 00:00:00</td>\n",
       "      <td>dry goods</td>\n",
       "    </tr>\n",
       "    <tr>\n",
       "      <th>62</th>\n",
       "      <td>tikka masala sauce</td>\n",
       "      <td>$3.55</td>\n",
       "      <td>1</td>\n",
       "      <td>Aldi</td>\n",
       "      <td>2023-10-05 00:00:00</td>\n",
       "      <td>quick meal</td>\n",
       "    </tr>\n",
       "    <tr>\n",
       "      <th>63</th>\n",
       "      <td>bread</td>\n",
       "      <td>$3.99</td>\n",
       "      <td>1</td>\n",
       "      <td>Aldi</td>\n",
       "      <td>2023-10-05 00:00:00</td>\n",
       "      <td>bread</td>\n",
       "    </tr>\n",
       "    <tr>\n",
       "      <th>64</th>\n",
       "      <td>veggie burgers</td>\n",
       "      <td>$2.49</td>\n",
       "      <td>1</td>\n",
       "      <td>Aldi</td>\n",
       "      <td>2023-10-05 00:00:00</td>\n",
       "      <td>quick meal</td>\n",
       "    </tr>\n",
       "    <tr>\n",
       "      <th>65</th>\n",
       "      <td>veggie ramen 4 pk</td>\n",
       "      <td>$5.99</td>\n",
       "      <td>1</td>\n",
       "      <td>Windy City Market</td>\n",
       "      <td>10/02/23</td>\n",
       "      <td>quick meal</td>\n",
       "    </tr>\n",
       "  </tbody>\n",
       "</table>\n",
       "</div>"
      ],
      "text/plain": [
       "                  Item  Price  Quantity              Store   \n",
       "61           NOLA rice  $1.45         2               Aldi  \\\n",
       "62  tikka masala sauce  $3.55         1               Aldi   \n",
       "63               bread  $3.99         1               Aldi   \n",
       "64      veggie burgers  $2.49         1               Aldi   \n",
       "65   veggie ramen 4 pk  $5.99         1  Windy City Market   \n",
       "\n",
       "                   Date    Category  \n",
       "61  2023-10-05 00:00:00   dry goods  \n",
       "62  2023-10-05 00:00:00  quick meal  \n",
       "63  2023-10-05 00:00:00       bread  \n",
       "64  2023-10-05 00:00:00  quick meal  \n",
       "65             10/02/23  quick meal  "
      ]
     },
     "execution_count": 16,
     "metadata": {},
     "output_type": "execute_result"
    }
   ],
   "source": [
    "our_groceries_df = pd.read_csv(\"Bearisa-Groceries.csv\", index_col=False)\n",
    "our_groceries_df.tail(5)"
   ]
  },
  {
   "cell_type": "markdown",
   "metadata": {},
   "source": [
    "Check info types and convert date time values"
   ]
  },
  {
   "cell_type": "code",
   "execution_count": 17,
   "metadata": {},
   "outputs": [
    {
     "name": "stdout",
     "output_type": "stream",
     "text": [
      "<class 'pandas.core.frame.DataFrame'>\n",
      "RangeIndex: 66 entries, 0 to 65\n",
      "Data columns (total 6 columns):\n",
      " #   Column    Non-Null Count  Dtype         \n",
      "---  ------    --------------  -----         \n",
      " 0   Item      66 non-null     object        \n",
      " 1   Price     66 non-null     object        \n",
      " 2   Quantity  66 non-null     int64         \n",
      " 3   Store     66 non-null     object        \n",
      " 4   Date      66 non-null     datetime64[ns]\n",
      " 5   Category  66 non-null     object        \n",
      "dtypes: datetime64[ns](1), int64(1), object(4)\n",
      "memory usage: 3.2+ KB\n"
     ]
    }
   ],
   "source": [
    "our_groceries_df[\"Date\"] = pd.to_datetime((our_groceries_df[\"Date\"]), format='mixed')\n",
    "our_groceries_df.info()"
   ]
  },
  {
   "cell_type": "markdown",
   "metadata": {},
   "source": [
    "Set up grocery dictionary with updates and convert to df"
   ]
  },
  {
   "cell_type": "code",
   "execution_count": 18,
   "metadata": {},
   "outputs": [
    {
     "data": {
      "text/html": [
       "<div>\n",
       "<style scoped>\n",
       "    .dataframe tbody tr th:only-of-type {\n",
       "        vertical-align: middle;\n",
       "    }\n",
       "\n",
       "    .dataframe tbody tr th {\n",
       "        vertical-align: top;\n",
       "    }\n",
       "\n",
       "    .dataframe thead th {\n",
       "        text-align: right;\n",
       "    }\n",
       "</style>\n",
       "<table border=\"1\" class=\"dataframe\">\n",
       "  <thead>\n",
       "    <tr style=\"text-align: right;\">\n",
       "      <th></th>\n",
       "      <th>Item</th>\n",
       "      <th>Price</th>\n",
       "      <th>Quantity</th>\n",
       "      <th>Store</th>\n",
       "      <th>Date</th>\n",
       "      <th>Category</th>\n",
       "    </tr>\n",
       "  </thead>\n",
       "  <tbody>\n",
       "    <tr>\n",
       "      <th>66</th>\n",
       "      <td>life cereal</td>\n",
       "      <td>$4.99</td>\n",
       "      <td>1</td>\n",
       "      <td>Target</td>\n",
       "      <td>10/02/23</td>\n",
       "      <td>quick meal</td>\n",
       "    </tr>\n",
       "    <tr>\n",
       "      <th>67</th>\n",
       "      <td>lentil soup</td>\n",
       "      <td>$3.29</td>\n",
       "      <td>1</td>\n",
       "      <td>Target</td>\n",
       "      <td>10/02/23</td>\n",
       "      <td>quick meal</td>\n",
       "    </tr>\n",
       "    <tr>\n",
       "      <th>68</th>\n",
       "      <td>veggie soup</td>\n",
       "      <td>$2.30</td>\n",
       "      <td>1</td>\n",
       "      <td>Target</td>\n",
       "      <td>10/02/23</td>\n",
       "      <td>quick meal</td>\n",
       "    </tr>\n",
       "    <tr>\n",
       "      <th>69</th>\n",
       "      <td>no soy teryaki</td>\n",
       "      <td>$3.94</td>\n",
       "      <td>1</td>\n",
       "      <td>Target</td>\n",
       "      <td>10/02/23</td>\n",
       "      <td>quick meal</td>\n",
       "    </tr>\n",
       "    <tr>\n",
       "      <th>70</th>\n",
       "      <td>low carb tortillas</td>\n",
       "      <td>$4.79</td>\n",
       "      <td>1</td>\n",
       "      <td>Target</td>\n",
       "      <td>10/02/23</td>\n",
       "      <td>bread</td>\n",
       "    </tr>\n",
       "  </tbody>\n",
       "</table>\n",
       "</div>"
      ],
      "text/plain": [
       "                  Item  Price Quantity   Store      Date    Category\n",
       "66         life cereal  $4.99        1  Target  10/02/23  quick meal\n",
       "67         lentil soup  $3.29        1  Target  10/02/23  quick meal\n",
       "68         veggie soup  $2.30        1  Target  10/02/23  quick meal\n",
       "69      no soy teryaki  $3.94        1  Target  10/02/23  quick meal\n",
       "70  low carb tortillas  $4.79        1  Target  10/02/23       bread"
      ]
     },
     "execution_count": 18,
     "metadata": {},
     "output_type": "execute_result"
    }
   ],
   "source": [
    "dictionary_groceries = {\n",
    "    'Item' : ['life cereal', 'lentil soup', 'veggie soup', 'no soy teryaki', 'low carb tortillas'],\n",
    "    'Price' : ['$4.99', '$3.29', '$2.30', '$3.94', '$4.79'],\n",
    "    'Quantity' : ['1', '1', '1', '1', '1'],\n",
    "    'Store' : ['Target', 'Target', 'Target', 'Target', 'Target'],\n",
    "    'Date' : ['10/02/23', '10/02/23', '10/02/23', '10/02/23', '10/02/23'],\n",
    "    'Category' : ['quick meal', 'quick meal', 'quick meal', 'quick meal', 'bread'] \n",
    "    #category menu: sweet snack, salty snack, drink, meat, produce, bread, dairy, quick meal, dry goods, spices, canned goods, condiments\n",
    "}\n",
    "\n",
    "new_grocery_df = pd.DataFrame(dictionary_groceries)\n",
    "\n",
    "our_groceries_df = pd.concat([our_groceries_df, new_grocery_df], ignore_index=True).reset_index(drop=True)\n",
    "our_groceries_df.tail(5)"
   ]
  },
  {
   "cell_type": "markdown",
   "metadata": {},
   "source": [
    "Overwrite csv"
   ]
  },
  {
   "cell_type": "code",
   "execution_count": 19,
   "metadata": {},
   "outputs": [],
   "source": [
    "our_groceries_df.to_csv(\"Bearisa-Groceries.csv\", encoding='utf-8', index=False)"
   ]
  },
  {
   "cell_type": "markdown",
   "metadata": {},
   "source": [
    "grocery trends visualization ideas:\n",
    "- item frequency\n",
    "- spending by category\n",
    "- category frequency\n",
    "- spending by item\n",
    "- store frequency\n",
    "- spending by store"
   ]
  }
 ],
 "metadata": {
  "kernelspec": {
   "display_name": "Python 3",
   "language": "python",
   "name": "python3"
  },
  "language_info": {
   "codemirror_mode": {
    "name": "ipython",
    "version": 3
   },
   "file_extension": ".py",
   "mimetype": "text/x-python",
   "name": "python",
   "nbconvert_exporter": "python",
   "pygments_lexer": "ipython3",
   "version": "3.11.1"
  },
  "orig_nbformat": 4
 },
 "nbformat": 4,
 "nbformat_minor": 2
}
