{
 "cells": [
  {
   "cell_type": "markdown",
   "metadata": {},
   "source": [
    "Set up imports "
   ]
  },
  {
   "cell_type": "code",
   "execution_count": 1,
   "metadata": {},
   "outputs": [],
   "source": [
    "import pandas as pd\n",
    "import matplotlib.pyplot as plt"
   ]
  },
  {
   "cell_type": "markdown",
   "metadata": {},
   "source": [
    "Convert csv to df"
   ]
  },
  {
   "cell_type": "code",
   "execution_count": 2,
   "metadata": {},
   "outputs": [
    {
     "data": {
      "text/html": [
       "<div>\n",
       "<style scoped>\n",
       "    .dataframe tbody tr th:only-of-type {\n",
       "        vertical-align: middle;\n",
       "    }\n",
       "\n",
       "    .dataframe tbody tr th {\n",
       "        vertical-align: top;\n",
       "    }\n",
       "\n",
       "    .dataframe thead th {\n",
       "        text-align: right;\n",
       "    }\n",
       "</style>\n",
       "<table border=\"1\" class=\"dataframe\">\n",
       "  <thead>\n",
       "    <tr style=\"text-align: right;\">\n",
       "      <th></th>\n",
       "      <th>Item</th>\n",
       "      <th>Price</th>\n",
       "      <th>Quantity</th>\n",
       "      <th>Store</th>\n",
       "      <th>Date</th>\n",
       "    </tr>\n",
       "  </thead>\n",
       "  <tbody>\n",
       "    <tr>\n",
       "      <th>19</th>\n",
       "      <td>almond milk</td>\n",
       "      <td>$3.19</td>\n",
       "      <td>1</td>\n",
       "      <td>Aldi</td>\n",
       "      <td>9/2/2023</td>\n",
       "    </tr>\n",
       "    <tr>\n",
       "      <th>20</th>\n",
       "      <td>grass fed beef patties 4 pack</td>\n",
       "      <td>$4.99</td>\n",
       "      <td>1</td>\n",
       "      <td>Aldi</td>\n",
       "      <td>9/2/2023</td>\n",
       "    </tr>\n",
       "    <tr>\n",
       "      <th>21</th>\n",
       "      <td>frozen tilapia 8 pack</td>\n",
       "      <td>$8.19</td>\n",
       "      <td>1</td>\n",
       "      <td>Aldi</td>\n",
       "      <td>9/2/2023</td>\n",
       "    </tr>\n",
       "    <tr>\n",
       "      <th>22</th>\n",
       "      <td>quesadilla cheese shredded</td>\n",
       "      <td>$4.69</td>\n",
       "      <td>1</td>\n",
       "      <td>Aldi</td>\n",
       "      <td>9/2/2023</td>\n",
       "    </tr>\n",
       "    <tr>\n",
       "      <th>23</th>\n",
       "      <td>brioche bun 8 pack</td>\n",
       "      <td>$3.99</td>\n",
       "      <td>1</td>\n",
       "      <td>Aldi</td>\n",
       "      <td>9/2/2023</td>\n",
       "    </tr>\n",
       "  </tbody>\n",
       "</table>\n",
       "</div>"
      ],
      "text/plain": [
       "                             Item   Price  Quantity Store      Date\n",
       "19                    almond milk  $3.19          1  Aldi  9/2/2023\n",
       "20  grass fed beef patties 4 pack  $4.99          1  Aldi  9/2/2023\n",
       "21          frozen tilapia 8 pack  $8.19          1  Aldi  9/2/2023\n",
       "22     quesadilla cheese shredded  $4.69          1  Aldi  9/2/2023\n",
       "23             brioche bun 8 pack  $3.99          1  Aldi  9/2/2023"
      ]
     },
     "execution_count": 2,
     "metadata": {},
     "output_type": "execute_result"
    }
   ],
   "source": [
    "our_groceries_df = pd.read_csv(\"Bearisa-Groceries.csv\", index_col=False)\n",
    "our_groceries_df.tail(5)"
   ]
  },
  {
   "cell_type": "markdown",
   "metadata": {},
   "source": [
    "Check info types and convert date time values"
   ]
  },
  {
   "cell_type": "code",
   "execution_count": 3,
   "metadata": {},
   "outputs": [
    {
     "name": "stdout",
     "output_type": "stream",
     "text": [
      "<class 'pandas.core.frame.DataFrame'>\n",
      "RangeIndex: 24 entries, 0 to 23\n",
      "Data columns (total 5 columns):\n",
      " #   Column    Non-Null Count  Dtype         \n",
      "---  ------    --------------  -----         \n",
      " 0   Item      24 non-null     object        \n",
      " 1   Price     24 non-null     object        \n",
      " 2   Quantity  24 non-null     int64         \n",
      " 3   Store     24 non-null     object        \n",
      " 4   Date      24 non-null     datetime64[ns]\n",
      "dtypes: datetime64[ns](1), int64(1), object(3)\n",
      "memory usage: 1.1+ KB\n"
     ]
    }
   ],
   "source": [
    "our_groceries_df[\"Date\"] = pd.to_datetime((our_groceries_df[\"Date\"]), format='mixed')\n",
    "our_groceries_df.info()"
   ]
  },
  {
   "cell_type": "markdown",
   "metadata": {},
   "source": [
    "Set up grocery dictionary with updates and convert to df"
   ]
  },
  {
   "cell_type": "code",
   "execution_count": 4,
   "metadata": {},
   "outputs": [
    {
     "data": {
      "text/html": [
       "<div>\n",
       "<style scoped>\n",
       "    .dataframe tbody tr th:only-of-type {\n",
       "        vertical-align: middle;\n",
       "    }\n",
       "\n",
       "    .dataframe tbody tr th {\n",
       "        vertical-align: top;\n",
       "    }\n",
       "\n",
       "    .dataframe thead th {\n",
       "        text-align: right;\n",
       "    }\n",
       "</style>\n",
       "<table border=\"1\" class=\"dataframe\">\n",
       "  <thead>\n",
       "    <tr style=\"text-align: right;\">\n",
       "      <th></th>\n",
       "      <th>Item</th>\n",
       "      <th>Price</th>\n",
       "      <th>Quantity</th>\n",
       "      <th>Store</th>\n",
       "      <th>Date</th>\n",
       "    </tr>\n",
       "  </thead>\n",
       "  <tbody>\n",
       "    <tr>\n",
       "      <th>24</th>\n",
       "      <td>corn chips</td>\n",
       "      <td>$2.49</td>\n",
       "      <td>1</td>\n",
       "      <td>Trader Joes</td>\n",
       "      <td>9/13/23</td>\n",
       "    </tr>\n",
       "    <tr>\n",
       "      <th>25</th>\n",
       "      <td>harvest tea</td>\n",
       "      <td>$2.49</td>\n",
       "      <td>1</td>\n",
       "      <td>Trader Joes</td>\n",
       "      <td>9/13/23</td>\n",
       "    </tr>\n",
       "    <tr>\n",
       "      <th>26</th>\n",
       "      <td>high fiber cereal</td>\n",
       "      <td>$2.99</td>\n",
       "      <td>1</td>\n",
       "      <td>Trader Joes</td>\n",
       "      <td>9/13/23</td>\n",
       "    </tr>\n",
       "    <tr>\n",
       "      <th>27</th>\n",
       "      <td>pumpkin spice rooibos tea</td>\n",
       "      <td>$4.99</td>\n",
       "      <td>1</td>\n",
       "      <td>Trader Joes</td>\n",
       "      <td>9/13/23</td>\n",
       "    </tr>\n",
       "    <tr>\n",
       "      <th>28</th>\n",
       "      <td>dark chocolate pb cups</td>\n",
       "      <td>$0.99</td>\n",
       "      <td>1</td>\n",
       "      <td>Trader Joes</td>\n",
       "      <td>9/13/23</td>\n",
       "    </tr>\n",
       "  </tbody>\n",
       "</table>\n",
       "</div>"
      ],
      "text/plain": [
       "                         Item  Price Quantity        Store     Date\n",
       "24                 corn chips  $2.49        1  Trader Joes  9/13/23\n",
       "25                harvest tea  $2.49        1  Trader Joes  9/13/23\n",
       "26          high fiber cereal  $2.99        1  Trader Joes  9/13/23\n",
       "27  pumpkin spice rooibos tea  $4.99        1  Trader Joes  9/13/23\n",
       "28     dark chocolate pb cups  $0.99        1  Trader Joes  9/13/23"
      ]
     },
     "execution_count": 4,
     "metadata": {},
     "output_type": "execute_result"
    }
   ],
   "source": [
    "dictionary_groceries = {\n",
    "    'Item' : [],\n",
    "    'Price' : [],\n",
    "    'Quantity' : [],\n",
    "    'Store' : [],\n",
    "    'Date' : [],\n",
    "    'Category' : [] \n",
    "    #category menu: sweet snack, salty snack, drink, meat, produce, bread, dairy, quick meal, dry goods, spices\n",
    "}\n",
    "\n",
    "new_grocery_df = pd.DataFrame(dictionary_groceries)\n",
    "\n",
    "our_groceries_df = pd.concat([our_groceries_df, new_grocery_df], ignore_index=True).reset_index(drop=True)\n",
    "our_groceries_df.tail(5)"
   ]
  },
  {
   "cell_type": "markdown",
   "metadata": {},
   "source": [
    "Overwrite csv"
   ]
  },
  {
   "cell_type": "code",
   "execution_count": 5,
   "metadata": {},
   "outputs": [],
   "source": [
    "our_groceries_df.to_csv(\"Bearisa-Groceries.csv\", encoding='utf-8', index=False)"
   ]
  },
  {
   "cell_type": "markdown",
   "metadata": {},
   "source": [
    "grocery trends visualization ideas:\n",
    "- item frequency\n",
    "- spending by category\n",
    "- category frequency\n",
    "- spending by item\n",
    "- store frequency\n",
    "- spending by store"
   ]
  }
 ],
 "metadata": {
  "kernelspec": {
   "display_name": "Python 3",
   "language": "python",
   "name": "python3"
  },
  "language_info": {
   "codemirror_mode": {
    "name": "ipython",
    "version": 3
   },
   "file_extension": ".py",
   "mimetype": "text/x-python",
   "name": "python",
   "nbconvert_exporter": "python",
   "pygments_lexer": "ipython3",
   "version": "3.11.1"
  },
  "orig_nbformat": 4
 },
 "nbformat": 4,
 "nbformat_minor": 2
}
