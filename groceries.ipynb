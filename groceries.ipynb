{
 "cells": [
  {
   "cell_type": "markdown",
   "metadata": {},
   "source": [
    "Set up imports "
   ]
  },
  {
   "cell_type": "code",
   "execution_count": 6,
   "metadata": {},
   "outputs": [],
   "source": [
    "import pandas as pd\n",
    "import matplotlib.pyplot as plt"
   ]
  },
  {
   "cell_type": "markdown",
   "metadata": {},
   "source": [
    "Convert csv to df"
   ]
  },
  {
   "cell_type": "code",
   "execution_count": 7,
   "metadata": {},
   "outputs": [
    {
     "data": {
      "text/html": [
       "<div>\n",
       "<style scoped>\n",
       "    .dataframe tbody tr th:only-of-type {\n",
       "        vertical-align: middle;\n",
       "    }\n",
       "\n",
       "    .dataframe tbody tr th {\n",
       "        vertical-align: top;\n",
       "    }\n",
       "\n",
       "    .dataframe thead th {\n",
       "        text-align: right;\n",
       "    }\n",
       "</style>\n",
       "<table border=\"1\" class=\"dataframe\">\n",
       "  <thead>\n",
       "    <tr style=\"text-align: right;\">\n",
       "      <th></th>\n",
       "      <th>Unnamed: 0</th>\n",
       "      <th>Item</th>\n",
       "      <th>Price</th>\n",
       "      <th>Quantity</th>\n",
       "      <th>Store</th>\n",
       "      <th>Date</th>\n",
       "    </tr>\n",
       "  </thead>\n",
       "  <tbody>\n",
       "    <tr>\n",
       "      <th>9</th>\n",
       "      <td>9</td>\n",
       "      <td>green leaf lettuce bunch</td>\n",
       "      <td>$0.99</td>\n",
       "      <td>1</td>\n",
       "      <td>World Fresh Market</td>\n",
       "      <td>2023-09-11 00:00:00</td>\n",
       "    </tr>\n",
       "    <tr>\n",
       "      <th>10</th>\n",
       "      <td>10</td>\n",
       "      <td>pint of tomatillos</td>\n",
       "      <td>$5.00</td>\n",
       "      <td>1</td>\n",
       "      <td>Glenwood Farmers Market</td>\n",
       "      <td>9/10/23</td>\n",
       "    </tr>\n",
       "    <tr>\n",
       "      <th>11</th>\n",
       "      <td>11</td>\n",
       "      <td>tomatoes</td>\n",
       "      <td>$5.00</td>\n",
       "      <td>2</td>\n",
       "      <td>Glenwood Farmers Market</td>\n",
       "      <td>9/10/23</td>\n",
       "    </tr>\n",
       "    <tr>\n",
       "      <th>12</th>\n",
       "      <td>12</td>\n",
       "      <td>pack of brownies</td>\n",
       "      <td>$12.00</td>\n",
       "      <td>1</td>\n",
       "      <td>Glenwood Farmers Market</td>\n",
       "      <td>9/10/23</td>\n",
       "    </tr>\n",
       "    <tr>\n",
       "      <th>13</th>\n",
       "      <td>13</td>\n",
       "      <td>cold brew drink</td>\n",
       "      <td>$9.00</td>\n",
       "      <td>1</td>\n",
       "      <td>Glenwood Farmers Market</td>\n",
       "      <td>9/10/23</td>\n",
       "    </tr>\n",
       "  </tbody>\n",
       "</table>\n",
       "</div>"
      ],
      "text/plain": [
       "    Unnamed: 0                      Item   Price  Quantity   \n",
       "9            9  green leaf lettuce bunch  $0.99          1  \\\n",
       "10          10        pint of tomatillos   $5.00         1   \n",
       "11          11                  tomatoes   $5.00         2   \n",
       "12          12          pack of brownies  $12.00         1   \n",
       "13          13           cold brew drink   $9.00         1   \n",
       "\n",
       "                      Store                 Date  \n",
       "9        World Fresh Market  2023-09-11 00:00:00  \n",
       "10  Glenwood Farmers Market              9/10/23  \n",
       "11  Glenwood Farmers Market              9/10/23  \n",
       "12  Glenwood Farmers Market              9/10/23  \n",
       "13  Glenwood Farmers Market              9/10/23  "
      ]
     },
     "execution_count": 7,
     "metadata": {},
     "output_type": "execute_result"
    }
   ],
   "source": [
    "our_groceries_df = pd.read_csv(\"Bearisa-Groceries.csv\", index_col=False)\n",
    "our_groceries_df.tail(5)"
   ]
  },
  {
   "cell_type": "markdown",
   "metadata": {},
   "source": [
    "Check info types and convert date time values"
   ]
  },
  {
   "cell_type": "code",
   "execution_count": 8,
   "metadata": {},
   "outputs": [
    {
     "name": "stdout",
     "output_type": "stream",
     "text": [
      "<class 'pandas.core.frame.DataFrame'>\n",
      "RangeIndex: 14 entries, 0 to 13\n",
      "Data columns (total 6 columns):\n",
      " #   Column      Non-Null Count  Dtype         \n",
      "---  ------      --------------  -----         \n",
      " 0   Unnamed: 0  14 non-null     int64         \n",
      " 1   Item        14 non-null     object        \n",
      " 2   Price       14 non-null     object        \n",
      " 3   Quantity    14 non-null     int64         \n",
      " 4   Store       14 non-null     object        \n",
      " 5   Date        14 non-null     datetime64[ns]\n",
      "dtypes: datetime64[ns](1), int64(2), object(3)\n",
      "memory usage: 800.0+ bytes\n"
     ]
    }
   ],
   "source": [
    "our_groceries_df[\"Date\"] = pd.to_datetime((our_groceries_df[\"Date\"]), format='mixed')\n",
    "our_groceries_df.info()"
   ]
  },
  {
   "cell_type": "markdown",
   "metadata": {},
   "source": [
    "Set up grocery dictionary with updates and convert to df"
   ]
  },
  {
   "cell_type": "code",
   "execution_count": 9,
   "metadata": {},
   "outputs": [
    {
     "data": {
      "text/html": [
       "<div>\n",
       "<style scoped>\n",
       "    .dataframe tbody tr th:only-of-type {\n",
       "        vertical-align: middle;\n",
       "    }\n",
       "\n",
       "    .dataframe tbody tr th {\n",
       "        vertical-align: top;\n",
       "    }\n",
       "\n",
       "    .dataframe thead th {\n",
       "        text-align: right;\n",
       "    }\n",
       "</style>\n",
       "<table border=\"1\" class=\"dataframe\">\n",
       "  <thead>\n",
       "    <tr style=\"text-align: right;\">\n",
       "      <th></th>\n",
       "      <th>Unnamed: 0</th>\n",
       "      <th>Item</th>\n",
       "      <th>Price</th>\n",
       "      <th>Quantity</th>\n",
       "      <th>Store</th>\n",
       "      <th>Date</th>\n",
       "    </tr>\n",
       "  </thead>\n",
       "  <tbody>\n",
       "    <tr>\n",
       "      <th>19</th>\n",
       "      <td>NaN</td>\n",
       "      <td>almond milk</td>\n",
       "      <td>$3.19</td>\n",
       "      <td>1</td>\n",
       "      <td>Aldi</td>\n",
       "      <td>9/2/23</td>\n",
       "    </tr>\n",
       "    <tr>\n",
       "      <th>20</th>\n",
       "      <td>NaN</td>\n",
       "      <td>grass fed beef patties 4 pack</td>\n",
       "      <td>$4.99</td>\n",
       "      <td>1</td>\n",
       "      <td>Aldi</td>\n",
       "      <td>9/2/23</td>\n",
       "    </tr>\n",
       "    <tr>\n",
       "      <th>21</th>\n",
       "      <td>NaN</td>\n",
       "      <td>frozen tilapia 8 pack</td>\n",
       "      <td>$8.19</td>\n",
       "      <td>1</td>\n",
       "      <td>Aldi</td>\n",
       "      <td>9/2/23</td>\n",
       "    </tr>\n",
       "    <tr>\n",
       "      <th>22</th>\n",
       "      <td>NaN</td>\n",
       "      <td>quesadilla cheese shredded</td>\n",
       "      <td>$4.69</td>\n",
       "      <td>1</td>\n",
       "      <td>Aldi</td>\n",
       "      <td>9/2/23</td>\n",
       "    </tr>\n",
       "    <tr>\n",
       "      <th>23</th>\n",
       "      <td>NaN</td>\n",
       "      <td>brioche bun 8 pack</td>\n",
       "      <td>$3.99</td>\n",
       "      <td>1</td>\n",
       "      <td>Aldi</td>\n",
       "      <td>9/2/23</td>\n",
       "    </tr>\n",
       "  </tbody>\n",
       "</table>\n",
       "</div>"
      ],
      "text/plain": [
       "    Unnamed: 0                           Item  Price Quantity Store    Date\n",
       "19         NaN                    almond milk  $3.19        1  Aldi  9/2/23\n",
       "20         NaN  grass fed beef patties 4 pack  $4.99        1  Aldi  9/2/23\n",
       "21         NaN          frozen tilapia 8 pack  $8.19        1  Aldi  9/2/23\n",
       "22         NaN     quesadilla cheese shredded  $4.69        1  Aldi  9/2/23\n",
       "23         NaN             brioche bun 8 pack  $3.99        1  Aldi  9/2/23"
      ]
     },
     "execution_count": 9,
     "metadata": {},
     "output_type": "execute_result"
    }
   ],
   "source": [
    "dictionary_groceries = {\n",
    "    'Item' : [],\n",
    "    'Price' : [],\n",
    "    'Quantity' : [],\n",
    "    'Store' : [],\n",
    "    'Date' : []\n",
    "}\n",
    "\n",
    "new_grocery_df = pd.DataFrame(dictionary_groceries)\n",
    "\n",
    "our_groceries_df = pd.concat([our_groceries_df, new_grocery_df], ignore_index=True).reset_index(drop=True)\n",
    "our_groceries_df.tail(5)"
   ]
  },
  {
   "cell_type": "markdown",
   "metadata": {},
   "source": [
    "Overwrite csv"
   ]
  },
  {
   "cell_type": "code",
   "execution_count": 10,
   "metadata": {},
   "outputs": [],
   "source": [
    "our_groceries_df.to_csv(\"Bearisa-Groceries.csv\", encoding='utf-8', index=False)"
   ]
  },
  {
   "cell_type": "markdown",
   "metadata": {},
   "source": [
    "grocery trends visualization ideas:\n",
    "- item frequency\n",
    "- spending by category\n",
    "- category frequency\n",
    "- spending by item\n",
    "- store frequency\n",
    "- spending by store"
   ]
  }
 ],
 "metadata": {
  "kernelspec": {
   "display_name": "Python 3",
   "language": "python",
   "name": "python3"
  },
  "language_info": {
   "codemirror_mode": {
    "name": "ipython",
    "version": 3
   },
   "file_extension": ".py",
   "mimetype": "text/x-python",
   "name": "python",
   "nbconvert_exporter": "python",
   "pygments_lexer": "ipython3",
   "version": "3.11.1"
  },
  "orig_nbformat": 4
 },
 "nbformat": 4,
 "nbformat_minor": 2
}
