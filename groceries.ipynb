{
 "cells": [
  {
   "cell_type": "markdown",
   "metadata": {},
   "source": [
    "Set up imports "
   ]
  },
  {
   "cell_type": "code",
   "execution_count": 1,
   "metadata": {},
   "outputs": [],
   "source": [
    "import pandas as pd\n",
    "import matplotlib.pyplot as plt"
   ]
  },
  {
   "cell_type": "markdown",
   "metadata": {},
   "source": [
    "Convert csv to df"
   ]
  },
  {
   "cell_type": "code",
   "execution_count": 2,
   "metadata": {},
   "outputs": [
    {
     "data": {
      "text/html": [
       "<div>\n",
       "<style scoped>\n",
       "    .dataframe tbody tr th:only-of-type {\n",
       "        vertical-align: middle;\n",
       "    }\n",
       "\n",
       "    .dataframe tbody tr th {\n",
       "        vertical-align: top;\n",
       "    }\n",
       "\n",
       "    .dataframe thead th {\n",
       "        text-align: right;\n",
       "    }\n",
       "</style>\n",
       "<table border=\"1\" class=\"dataframe\">\n",
       "  <thead>\n",
       "    <tr style=\"text-align: right;\">\n",
       "      <th></th>\n",
       "      <th>Item</th>\n",
       "      <th>Price</th>\n",
       "      <th>Quantity</th>\n",
       "      <th>Store</th>\n",
       "      <th>Date</th>\n",
       "      <th>Category</th>\n",
       "    </tr>\n",
       "  </thead>\n",
       "  <tbody>\n",
       "    <tr>\n",
       "      <th>24</th>\n",
       "      <td>corn chips</td>\n",
       "      <td>$2.49</td>\n",
       "      <td>1</td>\n",
       "      <td>Trader Joes</td>\n",
       "      <td>9/13/2023</td>\n",
       "      <td>salty snack</td>\n",
       "    </tr>\n",
       "    <tr>\n",
       "      <th>25</th>\n",
       "      <td>harvest tea</td>\n",
       "      <td>$2.49</td>\n",
       "      <td>1</td>\n",
       "      <td>Trader Joes</td>\n",
       "      <td>9/13/2023</td>\n",
       "      <td>drink</td>\n",
       "    </tr>\n",
       "    <tr>\n",
       "      <th>26</th>\n",
       "      <td>high fiber cereal</td>\n",
       "      <td>$2.99</td>\n",
       "      <td>1</td>\n",
       "      <td>Trader Joes</td>\n",
       "      <td>9/13/2023</td>\n",
       "      <td>quick meal</td>\n",
       "    </tr>\n",
       "    <tr>\n",
       "      <th>27</th>\n",
       "      <td>pumpkin spice rooibos tea</td>\n",
       "      <td>$4.99</td>\n",
       "      <td>1</td>\n",
       "      <td>Trader Joes</td>\n",
       "      <td>9/13/2023</td>\n",
       "      <td>drink</td>\n",
       "    </tr>\n",
       "    <tr>\n",
       "      <th>28</th>\n",
       "      <td>dark chocolate pb cups</td>\n",
       "      <td>$0.99</td>\n",
       "      <td>1</td>\n",
       "      <td>Trader Joes</td>\n",
       "      <td>9/13/2023</td>\n",
       "      <td>sweet snack</td>\n",
       "    </tr>\n",
       "  </tbody>\n",
       "</table>\n",
       "</div>"
      ],
      "text/plain": [
       "                         Item   Price  Quantity        Store       Date   \n",
       "24                 corn chips  $2.49          1  Trader Joes  9/13/2023  \\\n",
       "25                harvest tea  $2.49          1  Trader Joes  9/13/2023   \n",
       "26          high fiber cereal  $2.99          1  Trader Joes  9/13/2023   \n",
       "27  pumpkin spice rooibos tea  $4.99          1  Trader Joes  9/13/2023   \n",
       "28     dark chocolate pb cups  $0.99          1  Trader Joes  9/13/2023   \n",
       "\n",
       "       Category  \n",
       "24  salty snack  \n",
       "25        drink  \n",
       "26   quick meal  \n",
       "27        drink  \n",
       "28  sweet snack  "
      ]
     },
     "execution_count": 2,
     "metadata": {},
     "output_type": "execute_result"
    }
   ],
   "source": [
    "our_groceries_df = pd.read_csv(\"Bearisa-Groceries.csv\", index_col=False)\n",
    "our_groceries_df.tail(5)"
   ]
  },
  {
   "cell_type": "markdown",
   "metadata": {},
   "source": [
    "Check info types and convert date time values"
   ]
  },
  {
   "cell_type": "code",
   "execution_count": 3,
   "metadata": {},
   "outputs": [
    {
     "name": "stdout",
     "output_type": "stream",
     "text": [
      "<class 'pandas.core.frame.DataFrame'>\n",
      "RangeIndex: 29 entries, 0 to 28\n",
      "Data columns (total 6 columns):\n",
      " #   Column    Non-Null Count  Dtype         \n",
      "---  ------    --------------  -----         \n",
      " 0   Item      29 non-null     object        \n",
      " 1   Price     29 non-null     object        \n",
      " 2   Quantity  29 non-null     int64         \n",
      " 3   Store     29 non-null     object        \n",
      " 4   Date      29 non-null     datetime64[ns]\n",
      " 5   Category  29 non-null     object        \n",
      "dtypes: datetime64[ns](1), int64(1), object(4)\n",
      "memory usage: 1.5+ KB\n"
     ]
    }
   ],
   "source": [
    "our_groceries_df[\"Date\"] = pd.to_datetime((our_groceries_df[\"Date\"]), format='mixed')\n",
    "our_groceries_df.info()"
   ]
  },
  {
   "cell_type": "markdown",
   "metadata": {},
   "source": [
    "Set up grocery dictionary with updates and convert to df"
   ]
  },
  {
   "cell_type": "code",
   "execution_count": 4,
   "metadata": {},
   "outputs": [
    {
     "data": {
      "text/html": [
       "<div>\n",
       "<style scoped>\n",
       "    .dataframe tbody tr th:only-of-type {\n",
       "        vertical-align: middle;\n",
       "    }\n",
       "\n",
       "    .dataframe tbody tr th {\n",
       "        vertical-align: top;\n",
       "    }\n",
       "\n",
       "    .dataframe thead th {\n",
       "        text-align: right;\n",
       "    }\n",
       "</style>\n",
       "<table border=\"1\" class=\"dataframe\">\n",
       "  <thead>\n",
       "    <tr style=\"text-align: right;\">\n",
       "      <th></th>\n",
       "      <th>Item</th>\n",
       "      <th>Price</th>\n",
       "      <th>Quantity</th>\n",
       "      <th>Store</th>\n",
       "      <th>Date</th>\n",
       "      <th>Category</th>\n",
       "    </tr>\n",
       "  </thead>\n",
       "  <tbody>\n",
       "    <tr>\n",
       "      <th>26</th>\n",
       "      <td>high fiber cereal</td>\n",
       "      <td>$2.99</td>\n",
       "      <td>1</td>\n",
       "      <td>Trader Joes</td>\n",
       "      <td>2023-09-13 00:00:00</td>\n",
       "      <td>quick meal</td>\n",
       "    </tr>\n",
       "    <tr>\n",
       "      <th>27</th>\n",
       "      <td>pumpkin spice rooibos tea</td>\n",
       "      <td>$4.99</td>\n",
       "      <td>1</td>\n",
       "      <td>Trader Joes</td>\n",
       "      <td>2023-09-13 00:00:00</td>\n",
       "      <td>drink</td>\n",
       "    </tr>\n",
       "    <tr>\n",
       "      <th>28</th>\n",
       "      <td>dark chocolate pb cups</td>\n",
       "      <td>$0.99</td>\n",
       "      <td>1</td>\n",
       "      <td>Trader Joes</td>\n",
       "      <td>2023-09-13 00:00:00</td>\n",
       "      <td>sweet snack</td>\n",
       "    </tr>\n",
       "    <tr>\n",
       "      <th>29</th>\n",
       "      <td>fig bars</td>\n",
       "      <td>$16.59</td>\n",
       "      <td>1</td>\n",
       "      <td>Costco</td>\n",
       "      <td>9/15/23</td>\n",
       "      <td>quick meal</td>\n",
       "    </tr>\n",
       "    <tr>\n",
       "      <th>30</th>\n",
       "      <td>hoppy refresher 24 pk</td>\n",
       "      <td>$28.99</td>\n",
       "      <td>1</td>\n",
       "      <td>Costco</td>\n",
       "      <td>9/15/23</td>\n",
       "      <td>drink</td>\n",
       "    </tr>\n",
       "  </tbody>\n",
       "</table>\n",
       "</div>"
      ],
      "text/plain": [
       "                         Item   Price Quantity        Store   \n",
       "26          high fiber cereal  $2.99         1  Trader Joes  \\\n",
       "27  pumpkin spice rooibos tea  $4.99         1  Trader Joes   \n",
       "28     dark chocolate pb cups  $0.99         1  Trader Joes   \n",
       "29                   fig bars  $16.59        1       Costco   \n",
       "30      hoppy refresher 24 pk  $28.99        1       Costco   \n",
       "\n",
       "                   Date     Category  \n",
       "26  2023-09-13 00:00:00   quick meal  \n",
       "27  2023-09-13 00:00:00        drink  \n",
       "28  2023-09-13 00:00:00  sweet snack  \n",
       "29              9/15/23   quick meal  \n",
       "30              9/15/23        drink  "
      ]
     },
     "execution_count": 4,
     "metadata": {},
     "output_type": "execute_result"
    }
   ],
   "source": [
    "dictionary_groceries = {\n",
    "    'Item' : ['fig bars', 'hoppy refresher 24 pk'],\n",
    "    'Price' : ['$16.59', '$28.99'],\n",
    "    'Quantity' : ['1', '1'],\n",
    "    'Store' : ['Costco', 'Costco'],\n",
    "    'Date' : ['9/15/23', '9/15/23'],\n",
    "    'Category' : ['quick meal', 'drink'] \n",
    "    #category menu: sweet snack, salty snack, drink, meat, produce, bread, dairy, quick meal, dry goods, spices\n",
    "}\n",
    "\n",
    "new_grocery_df = pd.DataFrame(dictionary_groceries)\n",
    "\n",
    "our_groceries_df = pd.concat([our_groceries_df, new_grocery_df], ignore_index=True).reset_index(drop=True)\n",
    "our_groceries_df.tail(5)"
   ]
  },
  {
   "cell_type": "markdown",
   "metadata": {},
   "source": [
    "Overwrite csv"
   ]
  },
  {
   "cell_type": "code",
   "execution_count": 5,
   "metadata": {},
   "outputs": [],
   "source": [
    "our_groceries_df.to_csv(\"Bearisa-Groceries.csv\", encoding='utf-8', index=False)"
   ]
  },
  {
   "cell_type": "markdown",
   "metadata": {},
   "source": [
    "grocery trends visualization ideas:\n",
    "- item frequency\n",
    "- spending by category\n",
    "- category frequency\n",
    "- spending by item\n",
    "- store frequency\n",
    "- spending by store"
   ]
  }
 ],
 "metadata": {
  "kernelspec": {
   "display_name": "Python 3",
   "language": "python",
   "name": "python3"
  },
  "language_info": {
   "codemirror_mode": {
    "name": "ipython",
    "version": 3
   },
   "file_extension": ".py",
   "mimetype": "text/x-python",
   "name": "python",
   "nbconvert_exporter": "python",
   "pygments_lexer": "ipython3",
   "version": "3.11.1"
  },
  "orig_nbformat": 4
 },
 "nbformat": 4,
 "nbformat_minor": 2
}
