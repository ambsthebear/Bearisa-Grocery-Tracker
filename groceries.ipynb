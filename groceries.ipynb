{
 "cells": [
  {
   "cell_type": "markdown",
   "metadata": {},
   "source": [
    "Set up imports "
   ]
  },
  {
   "cell_type": "code",
   "execution_count": 1,
   "metadata": {},
   "outputs": [],
   "source": [
    "import pandas as pd\n",
    "import matplotlib.pyplot as plt"
   ]
  },
  {
   "cell_type": "markdown",
   "metadata": {},
   "source": [
    "Set up grocery dictionary, convert to df, export as csv"
   ]
  },
  {
   "cell_type": "code",
   "execution_count": 3,
   "metadata": {},
   "outputs": [],
   "source": [
    "dictionary_groceries = {\n",
    "    'Item' : ['pint of tomatillos', 'tomatoes', 'pack of brownies', 'cold brew drink'],\n",
    "    'Price' : ['$5.00', '$5.00', '$12.00', '$9.00'],\n",
    "    'Quantity' : ['1', '2', '1', '1'],\n",
    "    'Store' : ['Glenwood Farmers Market', 'Glenwood Farmers Market', 'Glenwood Farmers Market', 'Glenwood Farmers Market'],\n",
    "    'Date' : ['9/10/23', '9/10/23', '9/10/23', '9/10/23']\n",
    "}\n",
    "\n",
    "grocery_df = pd.DataFrame(dictionary_groceries)\n",
    "\n",
    "grocery_df.to_csv('Bearisa-Groceries.csv', encoding='utf-8', index=False)"
   ]
  },
  {
   "cell_type": "markdown",
   "metadata": {},
   "source": [
    "grocery trends visualization ideas:\n",
    "- item frequency\n",
    "- spending by category\n",
    "- category frequency\n",
    "- spending by item\n",
    "- store frequency\n",
    "- spending by store"
   ]
  }
 ],
 "metadata": {
  "kernelspec": {
   "display_name": "Python 3",
   "language": "python",
   "name": "python3"
  },
  "language_info": {
   "codemirror_mode": {
    "name": "ipython",
    "version": 3
   },
   "file_extension": ".py",
   "mimetype": "text/x-python",
   "name": "python",
   "nbconvert_exporter": "python",
   "pygments_lexer": "ipython3",
   "version": "3.11.1"
  },
  "orig_nbformat": 4
 },
 "nbformat": 4,
 "nbformat_minor": 2
}
